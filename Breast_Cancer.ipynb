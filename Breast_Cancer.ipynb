{
  "nbformat": 4,
  "nbformat_minor": 0,
  "metadata": {
    "kernelspec": {
      "display_name": "Python 3",
      "language": "python",
      "name": "python3"
    },
    "language_info": {
      "codemirror_mode": {
        "name": "ipython",
        "version": 3
      },
      "file_extension": ".py",
      "mimetype": "text/x-python",
      "name": "python",
      "nbconvert_exporter": "python",
      "pygments_lexer": "ipython3",
      "version": "3.6.5"
    },
    "varInspector": {
      "cols": {
        "lenName": 16,
        "lenType": 16,
        "lenVar": 40
      },
      "kernels_config": {
        "python": {
          "delete_cmd_postfix": "",
          "delete_cmd_prefix": "del ",
          "library": "var_list.py",
          "varRefreshCmd": "print(var_dic_list())"
        },
        "r": {
          "delete_cmd_postfix": ") ",
          "delete_cmd_prefix": "rm(",
          "library": "var_list.r",
          "varRefreshCmd": "cat(var_dic_list()) "
        }
      },
      "types_to_exclude": [
        "module",
        "function",
        "builtin_function_or_method",
        "instance",
        "_Feature"
      ],
      "window_display": false
    },
    "colab": {
      "name": "Breast Cancer.ipynb",
      "provenance": [],
      "toc_visible": true,
      "include_colab_link": true
    }
  },
  "cells": [
    {
      "cell_type": "markdown",
      "metadata": {
        "id": "view-in-github",
        "colab_type": "text"
      },
      "source": [
        "<a href=\"https://colab.research.google.com/github/yashguptaab99/Breast-Cancer-Classification-Case-Study/blob/master/Breast_Cancer.ipynb\" target=\"_parent\"><img src=\"https://colab.research.google.com/assets/colab-badge.svg\" alt=\"Open In Colab\"/></a>"
      ]
    },
    {
      "cell_type": "markdown",
      "metadata": {
        "id": "talZUxpmK2Ta",
        "colab_type": "text"
      },
      "source": [
        "# CASE STUDY: BREAST CANCER CLASSIFICATION\n",
        "# Yash Gupta"
      ]
    },
    {
      "cell_type": "markdown",
      "metadata": {
        "id": "2LOi5OO9K2Tb",
        "colab_type": "text"
      },
      "source": [
        "# STEP #1: PROBLEM STATEMENT"
      ]
    },
    {
      "cell_type": "markdown",
      "metadata": {
        "id": "AA6outVGK2Td",
        "colab_type": "text"
      },
      "source": [
        "\n",
        "- Predicting if the cancer diagnosis is benign or malignant based on several observations/features \n",
        "- 30 features are used, examples:\n",
        "        - radius (mean of distances from center to points on the perimeter)\n",
        "        - texture (standard deviation of gray-scale values)\n",
        "        - perimeter\n",
        "        - area\n",
        "        - smoothness (local variation in radius lengths)\n",
        "        - compactness (perimeter^2 / area - 1.0)\n",
        "        - concavity (severity of concave portions of the contour)\n",
        "        - concave points (number of concave portions of the contour)\n",
        "        - symmetry \n",
        "        - fractal dimension (\"coastline approximation\" - 1)\n",
        "\n",
        "- Datasets are linearly separable using all 30 input features\n",
        "- Number of Instances: 569\n",
        "- Class Distribution: 212 Malignant, 357 Benign\n",
        "- Target class:\n",
        "         - Malignant\n",
        "         - Benign\n",
        "\n",
        "\n",
        "https://archive.ics.uci.edu/ml/datasets/Breast+Cancer+Wisconsin+(Diagnostic)\n",
        "\n",
        "![image.png](attachment:image.png)"
      ]
    },
    {
      "cell_type": "markdown",
      "metadata": {
        "id": "VsXvmfkYK2Te",
        "colab_type": "text"
      },
      "source": [
        "# STEP #2: IMPORTING DATA"
      ]
    },
    {
      "cell_type": "markdown",
      "metadata": {
        "id": "l78kn8wXK2U2",
        "colab_type": "text"
      },
      "source": [
        "# STEP #3: VISUALIZING THE DATA"
      ]
    },
    {
      "cell_type": "markdown",
      "metadata": {
        "id": "7Kw1WsbMK2VL",
        "colab_type": "text"
      },
      "source": [
        "# STEP #4: MODEL TRAINING (FINDING A PROBLEM SOLUTION)"
      ]
    },
    {
      "cell_type": "markdown",
      "metadata": {
        "id": "71NFS5izK2Vz",
        "colab_type": "text"
      },
      "source": [
        "# STEP #5: EVALUATING THE MODEL"
      ]
    },
    {
      "cell_type": "markdown",
      "metadata": {
        "id": "B2bVCIxAK2WA",
        "colab_type": "text"
      },
      "source": [
        "# STEP #6: IMPROVING THE MODEL"
      ]
    },
    {
      "cell_type": "markdown",
      "metadata": {
        "id": "pXMsGuUtK2Wq",
        "colab_type": "text"
      },
      "source": [
        "# IMPROVING THE MODEL - PART 2"
      ]
    }
  ]
}